{
 "cells": [
  {
   "cell_type": "markdown",
   "metadata": {},
   "source": [
    "\"\"\"\n",
    "Python adalah bahasa pemrograman yang mudah dipelajari dan kuat. \n",
    "Ini memiliki struktur data tingkat tinggi yang efisien dan pendekatan sederhana \n",
    "namun efektif untuk pemrograman berorientasi objek. Sintaks Python yang elegan \n",
    "dan pengetikan dinamis, bersama dengan sifat interpretasinya, menjadikannya \n",
    "bahasa yang ideal untuk pembuatan skrip dan pengembangan aplikasi yang \n",
    "cepat di banyak area di sebagian besar platform.\n",
    "\"\"\""
   ]
  },
  {
   "cell_type": "markdown",
   "metadata": {},
   "source": [
    "Features of Python"
   ]
  },
  {
   "cell_type": "markdown",
   "metadata": {},
   "source": [
    "Simple\n",
    "\n",
    "Python adalah bahasa yang sederhana dan minimalis. Membaca program Python yang bagus terasa seperti membaca bahasa Inggris, meskipun bahasa Inggrisnya sangat ketat! Sifat pseudo-code dari Python adalah salah satu kekuatan terbesarnya. Hal ini memungkinkan Anda berkonsentrasi pada solusi masalah, bukan pada bahasa itu sendiri."
   ]
  },
  {
   "cell_type": "markdown",
   "metadata": {},
   "source": [
    "Mudah untuk dipelajari\n",
    "\n",
    "Seperti yang akan Anda lihat, Python sangat mudah untuk memulai. Python memiliki sintaks yang luar biasa sederhana, seperti yang telah disebutkan."
   ]
  },
  {
   "cell_type": "markdown",
   "metadata": {},
   "source": [
    "Gratis dan Sumber Terbuka\n",
    "\n",
    "Python adalah contoh FLOSS (Perangkat Lunak Gratis/Libre dan Open Source). Sederhananya, Anda dapat dengan bebas mendistribusikan salinan perangkat lunak ini, membaca kode sumbernya, mengubahnya, dan menggunakan sebagian darinya dalam program gratis baru. FLOSS didasarkan pada konsep komunitas yang berbagi pengetahuan. Inilah salah satu alasan mengapa Python begitu bagus - ia dibuat dan terus ditingkatkan oleh komunitas yang hanya ingin melihat Python yang lebih baik."
   ]
  },
  {
   "cell_type": "markdown",
   "metadata": {},
   "source": [
    "Bahasa Tingkat Tinggi\n",
    "\n",
    "Saat Anda menulis program dengan Python, Anda tidak perlu memikirkan detail tingkat rendah seperti mengelola memori yang digunakan oleh program Anda, dll."
   ]
  },
  {
   "cell_type": "markdown",
   "metadata": {},
   "source": [
    "Langkah pertama\n",
    "\n",
    "Sekarang kita akan melihat cara menjalankan program 'Hello World' tradisional dengan Python. Ini akan mengajari Anda cara menulis, menyimpan, dan menjalankan program Python.\n",
    "\n",
    "Ada dua cara menggunakan Python untuk menjalankan program Anda - menggunakan prompt juru bahasa interaktif atau menggunakan file sumber. Sekarang kita akan melihat cara menggunakan kedua metode ini."
   ]
  },
  {
   "cell_type": "markdown",
   "metadata": {},
   "source": [
    "Menggunakan Perintah Penerjemah\n",
    "\n",
    "Buka terminal di sistem operasi Anda (seperti yang dibahas sebelumnya di bab Instalasi) lalu buka prompt Python dengan mengetik python3 dan menekan tombol [enter].\n",
    "\n",
    "Setelah Anda memulai Python, Anda akan melihat >>> di mana Anda dapat mulai mengetik sesuatu. Ini disebut perintah juru bahasa Python.\n",
    "\n",
    "Pada prompt juru bahasa Python, ketik:"
   ]
  },
  {
   "cell_type": "code",
   "execution_count": null,
   "metadata": {},
   "outputs": [],
   "source": [
    "print(\"Hello World\")"
   ]
  },
  {
   "cell_type": "markdown",
   "metadata": {},
   "source": [
    "diikuti dengan tombol [enter]. Anda akan melihat kata-kata Hello World tercetak di layar."
   ]
  },
  {
   "cell_type": "markdown",
   "metadata": {},
   "source": [
    "Berikut adalah contoh apa yang harus Anda lihat, ketika menggunakan komputer Mac OS X. Detail tentang perangkat lunak Python akan berbeda berdasarkan komputer Anda, tetapi bagian dari prompt (yaitu dari >>> dan seterusnya) harus sama, apa pun sistem operasinya."
   ]
  },
  {
   "cell_type": "markdown",
   "metadata": {},
   "source": [
    "$ python3\n",
    "Python 3.6.0 (default, Jan 12 2017, 11:26:36)\n",
    "[GCC 4.2.1 Compatible Apple LLVM 8.0.0 (clang-800.0.38)] on darwin\n",
    "\n",
    "Type \"help\", \"copyright\", \"credits\" or \"license\" for more information.\n",
    "\n",
    ">>> print(\"Hello World\")\n",
    "\n",
    "Hello World"
   ]
  },
  {
   "cell_type": "markdown",
   "metadata": {},
   "source": [
    "Perhatikan bahwa Python segera memberi Anda keluaran baris! Apa yang baru saja Anda masukkan adalah satu pernyataan Python. Kami menggunakan print untuk (tidak mengherankan) mencetak nilai apa pun yang Anda berikan padanya. Di sini, kami menyediakan teks Hello World dan ini segera dicetak ke layar."
   ]
  },
  {
   "cell_type": "markdown",
   "metadata": {},
   "source": [
    "Cara Keluar dari Perintah Interpreter\n",
    "\n",
    "Jika Anda menggunakan shell GNU/Linux atau OS X, Anda dapat keluar dari prompt interpreter dengan menekan [ctrl + d] atau memasukkan exit() (catatan: ingatlah untuk menyertakan tanda kurung, ()) diikuti dengan tombol [enter] .\n",
    "\n",
    "Jika Anda menggunakan command prompt Windows, tekan [ctrl + z] diikuti dengan tombol [enter]."
   ]
  },
  {
   "cell_type": "markdown",
   "metadata": {},
   "source": [
    "Kita tidak bisa mengetikkan program kita pada prompt penerjemah setiap kali kita ingin menjalankan sesuatu, jadi kita harus menyimpannya dalam file dan bisa menjalankan program kita berapa kali pun"
   ]
  },
  {
   "cell_type": "markdown",
   "metadata": {},
   "source": [
    "Untuk membuat file sumber Python, kami memerlukan perangkat lunak editor tempat Anda dapat mengetik dan menyimpan. Editor programmer yang baik akan membuat hidup Anda lebih mudah dalam menulis file sumber. Oleh karena itu, pemilihan editor memang sangat penting. Anda harus memilih editor seperti Anda memilih mobil yang akan Anda beli. Editor yang baik akan membantu Anda menulis program Python dengan mudah, membuat perjalanan Anda lebih nyaman dan membantu Anda mencapai tujuan (mencapai tujuan Anda) dengan cara yang jauh lebih cepat dan aman."
   ]
  },
  {
   "cell_type": "markdown",
   "metadata": {},
   "source": [
    "Dasar-dasar\n",
    "\n",
    "Mencetak hello world saja tidak cukup, bukan? Anda ingin melakukan lebih dari itu - Anda ingin mengambil masukan, memanipulasinya, dan mendapatkan sesuatu darinya. Kita dapat mencapai hal ini dengan Python menggunakan konstanta dan variabel, dan kita juga akan mempelajari beberapa konsep lainnya di bab ini."
   ]
  },
  {
   "cell_type": "markdown",
   "metadata": {},
   "source": [
    "Komentar\n",
    "\n",
    "Komentar adalah teks apa pun di sebelah kanan simbol # dan terutama berguna sebagai catatan bagi pembaca program.\n",
    "\n",
    "For example:"
   ]
  },
  {
   "cell_type": "code",
   "execution_count": null,
   "metadata": {},
   "outputs": [],
   "source": [
    "print('hello world') # Note that print is a function"
   ]
  },
  {
   "cell_type": "markdown",
   "metadata": {},
   "source": [
    "or:"
   ]
  },
  {
   "cell_type": "code",
   "execution_count": null,
   "metadata": {},
   "outputs": [],
   "source": [
    "# Note that print is a function\n",
    "print('hello world')"
   ]
  },
  {
   "cell_type": "markdown",
   "metadata": {},
   "source": [
    "Gunakan sebanyak mungkin komentar bermanfaat dalam program Anda untuk:\n",
    "\n",
    "-menjelaskan asumsi\n",
    "-menjelaskan keputusan penting\n",
    "-menjelaskan rincian penting\n",
    "-jelaskan masalah yang ingin Anda pecahkan\n",
    "-jelaskan masalah yang Anda coba atasi dalam program Anda, dll."
   ]
  },
  {
   "cell_type": "markdown",
   "metadata": {},
   "source": [
    "Bilangan pada dasarnya terdiri dari dua jenis - bilangan bulat dan float.\n",
    "\n",
    "Contoh bilangan bulat adalah 2 yang hanya berupa bilangan bulat.\n",
    "\n",
    "Contoh bilangan floating point (atau disingkat float) adalah 3.23 dan 52.3E-4. Notasi E menunjukkan pangkat 10. Dalam hal ini, 52.3E-4 berarti 52.3 * 10^-4^.\n",
    "\n",
    "Catatan untuk Pemrogram Berpengalaman\n",
    "\n",
    "Tidak ada tipe panjang yang terpisah. Tipe int dapat berupa bilangan bulat dengan ukuran berapa pun."
   ]
  },
  {
   "cell_type": "markdown",
   "metadata": {},
   "source": [
    "string\n",
    "\n",
    "String adalah rangkaian karakter. String pada dasarnya hanyalah sekumpulan kata.\n",
    "\n",
    "Anda akan menggunakan string di hampir setiap program Python yang Anda tulis, jadi perhatikan bagian berikut."
   ]
  },
  {
   "cell_type": "markdown",
   "metadata": {},
   "source": [
    "Kutipan Tunggal\n",
    "\n",
    "Anda dapat menentukan string menggunakan tanda kutip tunggal seperti 'Kutip saya tentang ini'.\n",
    "\n",
    "Semua spasi, yaitu spasi dan tab, di dalam tanda kutip, dipertahankan apa adanya."
   ]
  },
  {
   "cell_type": "markdown",
   "metadata": {},
   "source": [
    "Kutipan Ganda\n",
    "\n",
    "String dalam tanda kutip ganda bekerja dengan cara yang sama seperti string dalam tanda kutip tunggal. Contohnya adalah “Siapa namamu?”."
   ]
  },
  {
   "cell_type": "markdown",
   "metadata": {},
   "source": [
    "Kutipan Tiga Kali Lipat\n",
    "\n",
    "Anda dapat menentukan string multi-baris menggunakan tanda kutip tiga - (\"\"\" atau '''). Anda dapat menggunakan tanda kutip tunggal dan tanda kutip ganda secara bebas di dalam tanda kutip tiga. Contohnya adalah:\n",
    "\n",
    "'''Ini adalah string multi-baris. Ini adalah baris pertama.\n",
    "Ini adalah baris kedua.\n",
    "“Siapa namamu?” tanyaku.\n",
    "Dia berkata, \"Bond, James Bond.\"\n",
    "'''"
   ]
  },
  {
   "cell_type": "markdown",
   "metadata": {},
   "source": [
    "Metode formatnya\n",
    "\n",
    "Terkadang kita mungkin ingin membuat string dari informasi lain. Di sinilah metode format() berguna."
   ]
  },
  {
   "cell_type": "markdown",
   "metadata": {},
   "source": [
    "Simpan baris berikut sebagai file str_format.py:"
   ]
  },
  {
   "cell_type": "code",
   "execution_count": null,
   "metadata": {},
   "outputs": [],
   "source": [
    "age = 20\n",
    "name = 'Swaroop'\n",
    "\n",
    "print('{0} was {1} years old when he wrote this book'.format(name, age))\n",
    "print('Why is {0} playing with that python?'.format(name))"
   ]
  },
  {
   "cell_type": "markdown",
   "metadata": {},
   "source": [
    "Output:\n",
    "$ python str_format.py\n",
    "Swaroop was 20 years old when he wrote this book\n",
    "Why is Swaroop playing with that python?"
   ]
  },
  {
   "cell_type": "markdown",
   "metadata": {},
   "source": [
    "Amati penggunaan pertama saat kita menggunakan {0} dan ini berhubungan dengan nama variabel yang merupakan argumen pertama pada metode format. Demikian pula, spesifikasi kedua adalah {1} yang sesuai dengan age yang merupakan argumen kedua pada metode format. Perhatikan bahwa Python mulai menghitung dari 0 yang berarti posisi pertama berada pada indeks 0, posisi kedua pada indeks 1, dan seterusnya."
   ]
  },
  {
   "cell_type": "markdown",
   "metadata": {},
   "source": [
    "Perhatikan bahwa kita dapat mencapai hal yang sama dengan menggunakan rangkaian string:"
   ]
  },
  {
   "cell_type": "code",
   "execution_count": null,
   "metadata": {},
   "outputs": [],
   "source": [
    "name + ' is ' + str(age) + ' years old'"
   ]
  },
  {
   "cell_type": "markdown",
   "metadata": {},
   "source": [
    "tapi itu jauh lebih buruk dan rawan kesalahan. Kedua, konversi ke string akan dilakukan secara otomatis dengan metode format, bukan konversi eksplisit ke string yang diperlukan dalam kasus ini. Ketiga, bila menggunakan metode format, kita dapat mengubah pesan tanpa harus berurusan dengan variabel yang digunakan dan sebaliknya."
   ]
  },
  {
   "cell_type": "markdown",
   "metadata": {},
   "source": [
    "Also note that the numbers are optional, so you could have also written as:"
   ]
  },
  {
   "cell_type": "markdown",
   "metadata": {},
   "source": [
    "Perhatikan juga bahwa angka-angka tersebut bersifat opsional, jadi Anda juga dapat menulis sebagai:"
   ]
  },
  {
   "cell_type": "code",
   "execution_count": null,
   "metadata": {},
   "outputs": [],
   "source": [
    "age = 20\n",
    "name = 'Swaroop'\n",
    "\n",
    "print('{} was {} years old when he wrote this book'.format(name, age))\n",
    "print('Why is {} playing with that python?'.format(name))"
   ]
  },
  {
   "cell_type": "markdown",
   "metadata": {},
   "source": [
    "yang akan memberikan keluaran yang sama persis dengan program sebelumnya.\n",
    "\n",
    "Kami juga dapat memberi nama parameternya:"
   ]
  },
  {
   "cell_type": "code",
   "execution_count": null,
   "metadata": {},
   "outputs": [],
   "source": [
    "age = 20\n",
    "name = 'Swaroop'\n",
    "\n",
    "print('{name} was {age} years old when he wrote this book'.format(name=name, age=age))\n",
    "print('Why is {name} playing with that python?'.format(name=name))"
   ]
  },
  {
   "cell_type": "markdown",
   "metadata": {},
   "source": [
    "yang akan memberikan keluaran yang sama persis dengan program sebelumnya.\n",
    "\n",
    "Python 3.6 memperkenalkan cara yang lebih singkat untuk melakukan parameter bernama, yang disebut \"f-strings\":"
   ]
  },
  {
   "cell_type": "code",
   "execution_count": null,
   "metadata": {},
   "outputs": [],
   "source": [
    "age = 20\n",
    "name = 'Swaroop'\n",
    "\n",
    "print(f'{name} was {age} years old when he wrote this book')  # notice the 'f' before the string\n",
    "print(f'Why is {name} playing with that python?')  # notice the 'f' before the string"
   ]
  },
  {
   "cell_type": "markdown",
   "metadata": {},
   "source": [
    "yang akan memberikan keluaran yang sama persis dengan program sebelumnya.\n",
    "\n",
    "Apa yang dilakukan Python dalam metode format adalah ia mensubstitusi setiap nilai argumen ke tempat spesifikasi. Mungkin ada spesifikasi yang lebih detail seperti:"
   ]
  },
  {
   "cell_type": "code",
   "execution_count": 11,
   "metadata": {},
   "outputs": [
    {
     "name": "stdout",
     "output_type": "stream",
     "text": [
      "3.1416\n",
      "________hello_________\n",
      "Swaroop wrote A Byte of Python\n"
     ]
    }
   ],
   "source": [
    "import math\n",
    "# decimal (.) precision of 3 for float '0.333'\n",
    "print('{0:.4f}'.format(math.pi))\n",
    "# fill with underscores (_) with the text centered\n",
    "# (^) to 11 width '___hello___'\n",
    "print('{0:_^22}'.format('hello'))\n",
    "# keyword-based 'Swaroop wrote A Byte of Python'\n",
    "print('{name} wrote {book}'.format(name='Swaroop', book='A Byte of Python'))"
   ]
  },
  {
   "cell_type": "markdown",
   "metadata": {},
   "source": [
    "Karena kita membahas pemformatan, perhatikan bahwa pencetakan selalu diakhiri dengan karakter \"baris baru\" yang tidak terlihat (\\n) sehingga panggilan berulang untuk mencetak semuanya akan dicetak pada baris terpisah. Untuk mencegah karakter baris baru ini dicetak, Anda dapat menentukan bahwa karakter tersebut harus diakhiri dengan kosong:"
   ]
  },
  {
   "cell_type": "code",
   "execution_count": 12,
   "metadata": {},
   "outputs": [
    {
     "name": "stdout",
     "output_type": "stream",
     "text": [
      "ab"
     ]
    }
   ],
   "source": [
    "print('a', end='')\n",
    "print('b', end='')"
   ]
  },
  {
   "cell_type": "markdown",
   "metadata": {},
   "source": [
    "Or you can end with a space:"
   ]
  },
  {
   "cell_type": "code",
   "execution_count": 15,
   "metadata": {},
   "outputs": [
    {
     "name": "stdout",
     "output_type": "stream",
     "text": [
      "a b c\n"
     ]
    }
   ],
   "source": [
    "print('a', end=' ')\n",
    "print('b', end=' ')\n",
    "print('c')"
   ]
  },
  {
   "cell_type": "code",
   "execution_count": 25,
   "metadata": {},
   "outputs": [
    {
     "name": "stdout",
     "output_type": "stream",
     "text": [
      "What\\'s your \\name?\n"
     ]
    }
   ],
   "source": [
    "print(r\"What\\'s your \\name?\")"
   ]
  },
  {
   "cell_type": "markdown",
   "metadata": {},
   "source": [
    "Variabel\n",
    "\n",
    "Menggunakan konstanta literal saja bisa menjadi membosankan - kita memerlukan cara untuk menyimpan informasi dan memanipulasinya juga. Di sinilah variabel berperan. Variabel persis seperti namanya - nilainya dapat bervariasi, yaitu Anda dapat menyimpan apa pun menggunakan variabel. Variabel hanyalah bagian dari memori komputer tempat Anda menyimpan beberapa informasi. Tidak seperti konstanta literal, Anda memerlukan beberapa metode untuk mengakses variabel-variabel ini dan karenanya Anda memberi mereka nama."
   ]
  },
  {
   "cell_type": "markdown",
   "metadata": {},
   "source": [
    "Identifier Naming\n",
    "\n",
    "Variables are examples of identifiers. Identifiers are names given to identify something. There are some rules you have to follow for naming identifiers:"
   ]
  },
  {
   "cell_type": "markdown",
   "metadata": {},
   "source": [
    "Tipe Data\n",
    "\n",
    "Variabel dapat menampung nilai dari tipe berbeda yang disebut tipe data. Tipe dasarnya adalah angka dan string, yang telah kita bahas. Di bab selanjutnya, kita akan melihat cara membuat tipe kita sendiri menggunakan kelas"
   ]
  },
  {
   "cell_type": "markdown",
   "metadata": {},
   "source": [
    "Obyek\n",
    "\n",
    "Ingat, Python mengacu pada apapun yang digunakan dalam suatu program sebagai objek. Hal ini dimaksudkan dalam pengertian umum. Daripada mengatakan 'sesuatu', kita mengatakan 'objek'."
   ]
  },
  {
   "cell_type": "markdown",
   "metadata": {},
   "source": [
    "Catatan untuk pengguna Pemrograman Berorientasi Objek:\n",
    "\n",
    "Python sangat berorientasi objek dalam arti bahwa segala sesuatu adalah objek termasuk angka, string, dan fungsi."
   ]
  },
  {
   "cell_type": "markdown",
   "metadata": {},
   "source": [
    "Sekarang kita akan melihat cara menggunakan variabel bersama dengan konstanta literal. Simpan contoh berikut dan jalankan programnya."
   ]
  },
  {
   "cell_type": "markdown",
   "metadata": {},
   "source": [
    "Untuk editor lainnya\n",
    "\n",
    "1. Buka editor pilihan Anda.\n",
    "\n",
    "2. Ketikkan kode program yang diberikan dalam contoh.\n",
    "3. Simpan sebagai file dengan nama file yang disebutkan.\n",
    "4. Jalankan interpreter dengan perintah python program.py untuk menjalankan program."
   ]
  },
  {
   "cell_type": "markdown",
   "metadata": {},
   "source": [
    "Example: Using Variables And Literal Constants\n",
    "Ketik dan jalankan program berikut:"
   ]
  },
  {
   "cell_type": "code",
   "execution_count": 26,
   "metadata": {},
   "outputs": [
    {
     "name": "stdout",
     "output_type": "stream",
     "text": [
      "5\n",
      "6\n",
      "This is a multi-line string.\n",
      "This is the second line.\n"
     ]
    }
   ],
   "source": [
    "# Filename : var.py\n",
    "i = 5\n",
    "print(i)\n",
    "i = i + 1\n",
    "print(i)\n",
    "\n",
    "s = '''This is a multi-line string.\n",
    "This is the second line.'''\n",
    "print(s)"
   ]
  },
  {
   "cell_type": "markdown",
   "metadata": {},
   "source": [
    "Bagaimana itu bekerja\n",
    "\n",
    "Begini cara kerja program ini. Pertama, kita menetapkan nilai konstanta literal 5 ke variabel i menggunakan operator penugasan (=). Baris ini disebut pernyataan karena menyatakan bahwa sesuatu harus dilakukan dan dalam hal ini, kita menghubungkan nama variabel i dengan nilai 5. Selanjutnya, kita mencetak nilai i menggunakan pernyataan print yang, tidak mengherankan, hanya mencetak nilai variabel ke layar.\n",
    "\n",
    "Kemudian kita menambahkan 1 pada nilai yang disimpan di i dan menyimpannya kembali. Kami kemudian mencetaknya dan diharapkan mendapatkan nilai 6.\n",
    "\n",
    "Demikian pula, kami menetapkan string literal ke variabel s dan kemudian mencetaknya."
   ]
  },
  {
   "cell_type": "code",
   "execution_count": 24,
   "metadata": {},
   "outputs": [
    {
     "name": "stdout",
     "output_type": "stream",
     "text": [
      "/1\n"
     ]
    }
   ],
   "source": [
    "print('/1')"
   ]
  },
  {
   "cell_type": "code",
   "execution_count": null,
   "metadata": {},
   "outputs": [],
   "source": []
  }
 ],
 "metadata": {
  "kernelspec": {
   "display_name": "Python 3",
   "language": "python",
   "name": "python3"
  },
  "language_info": {
   "codemirror_mode": {
    "name": "ipython",
    "version": 3
   },
   "file_extension": ".py",
   "mimetype": "text/x-python",
   "name": "python",
   "nbconvert_exporter": "python",
   "pygments_lexer": "ipython3",
   "version": "3.9.16"
  }
 },
 "nbformat": 4,
 "nbformat_minor": 2
}
